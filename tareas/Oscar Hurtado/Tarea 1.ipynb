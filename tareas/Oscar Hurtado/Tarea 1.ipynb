{
 "cells": [
  {
   "cell_type": "markdown",
   "metadata": {},
   "source": [
    "#Tarea 1"
   ]
  },
  {
   "cell_type": "markdown",
   "metadata": {},
   "source": [
    "##Resolviendo el tutorial de  http://pcottle.github.io/learnGitBranching"
   ]
  },
  {
   "cell_type": "markdown",
   "metadata": {},
   "source": [
    "**Sección 1 \"Introduction sequence\", ejercicios 3 y 4**\n",
    "\n"
   ]
  },
  {
   "cell_type": "markdown",
   "metadata": {},
   "source": [
    "- El ejercicio 3 consiste en aprender a realizar un \"merge\" de dos ramas de trabajo en el repositorio en git. \n",
    "El ejercicio consiste en crear una rama distinta a la master, lalamda \"bugFix\" hacer algunos commits en la rama bugFix y después hacer el merge con la rama master.\n",
    "Los comandos que utilice fueron \n",
    "\n",
    "$ git checkout -b bugFix\n",
    "\n",
    "$ git commit\n",
    "\n",
    "$ git checkout master\n",
    "\n",
    "$ git commit\n",
    "\n",
    "$ git merge bugFix\n",
    "\n",
    "![screenshot 1](http://localhost:8888/files/Desktop/Captura%20de%20pantalla%202016-08-29%20a%20las%2023.33.54.png)\n",
    "![screenshot2](http://localhost:8888/files/Desktop/Captura%20de%20pantalla%202016-08-29%20a%20las%2023.35.49.png)\n",
    "\n",
    "- El ejercicio 4 consiste en aprender a usar \"rebasing\"\n",
    "\n",
    "Los comandos que utilice fueron los siguientes\n",
    "\n",
    "$ git checkout -b bugFix\n",
    "\n",
    "$ git commit\n",
    "\n",
    "$ git checkout master\n",
    "\n",
    "$ git commit\n",
    "\n",
    "$ git checkout bugFix\n",
    "\n",
    "$ git rebase master\n",
    "\n",
    "\n",
    "![screenshot 3](http://localhost:8888/files/Desktop/Captura%20de%20pantalla%202016-08-29%20a%20las%2023.40.54.png)"
   ]
  },
  {
   "cell_type": "markdown",
   "metadata": {
    "collapsed": true
   },
   "source": [
    "**Sección 2: \"Ramping up\", ejercicios 3 y 4**"
   ]
  },
  {
   "cell_type": "markdown",
   "metadata": {},
   "source": [
    "Esta sección es para aprender a cambiar el apuntador del commit en el que se está trabajando."
   ]
  },
  {
   "cell_type": "markdown",
   "metadata": {},
   "source": [
    "Los siguientes screen shots estan ordenados de la siguiente manera: \n",
    "El primero es una prueba de que se logró resolver el objetivo del ejercicio planteado en el tutorial, y el segundo muestra la \"terminal\" con la secuencia de comandos utilizados y el diagrama del \"repositorio\" que se obtuvo al final del ejercicio."
   ]
  },
  {
   "cell_type": "markdown",
   "metadata": {},
   "source": [
    "- Ejercicio 3"
   ]
  },
  {
   "cell_type": "markdown",
   "metadata": {},
   "source": []
  },
  {
   "cell_type": "markdown",
   "metadata": {},
   "source": []
  },
  {
   "cell_type": "markdown",
   "metadata": {},
   "source": [
    "- Ejercicio 4"
   ]
  },
  {
   "cell_type": "markdown",
   "metadata": {},
   "source": []
  },
  {
   "cell_type": "markdown",
   "metadata": {},
   "source": []
  },
  {
   "cell_type": "markdown",
   "metadata": {},
   "source": [
    "**Sección 3 \"Moving work around\", ejercicios 1 y 2**"
   ]
  },
  {
   "cell_type": "markdown",
   "metadata": {},
   "source": [
    "Nuevamente el primer screenshot muestra que se logró resolver el ejercicio y el segundo screenshot muestra la secuencia de comandos utilizados y el diagrama que se obtuvo."
   ]
  },
  {
   "cell_type": "markdown",
   "metadata": {},
   "source": [
    "- Ejercicio 1"
   ]
  },
  {
   "cell_type": "markdown",
   "metadata": {},
   "source": []
  },
  {
   "cell_type": "markdown",
   "metadata": {},
   "source": []
  },
  {
   "cell_type": "markdown",
   "metadata": {},
   "source": [
    "- Ejercicio 2"
   ]
  },
  {
   "cell_type": "markdown",
   "metadata": {},
   "source": []
  },
  {
   "cell_type": "markdown",
   "metadata": {},
   "source": []
  },
  {
   "cell_type": "markdown",
   "metadata": {},
   "source": [
    "**Sección 4 \"A mixed bag\", ejercicios 1, 3, y 4**."
   ]
  },
  {
   "cell_type": "markdown",
   "metadata": {},
   "source": [
    "(Se sigue el mismo formato presentado anteriormente para la presentación de los screenshots)"
   ]
  },
  {
   "cell_type": "markdown",
   "metadata": {},
   "source": [
    "- Ejercicio 1"
   ]
  },
  {
   "cell_type": "markdown",
   "metadata": {},
   "source": []
  },
  {
   "cell_type": "markdown",
   "metadata": {},
   "source": []
  },
  {
   "cell_type": "markdown",
   "metadata": {},
   "source": [
    "- Ejercicio 3"
   ]
  },
  {
   "cell_type": "markdown",
   "metadata": {},
   "source": []
  },
  {
   "cell_type": "markdown",
   "metadata": {},
   "source": []
  },
  {
   "cell_type": "markdown",
   "metadata": {},
   "source": [
    "- Ejercicio 4"
   ]
  },
  {
   "cell_type": "markdown",
   "metadata": {},
   "source": []
  },
  {
   "cell_type": "markdown",
   "metadata": {},
   "source": []
  },
  {
   "cell_type": "markdown",
   "metadata": {},
   "source": [
    "**Sección 5 \"Advanced topics\", ejercicios 2 y 3**"
   ]
  },
  {
   "cell_type": "markdown",
   "metadata": {},
   "source": [
    "(Se sigue el mismo formato presentado anteriormente para la presentación de los screenshots)"
   ]
  },
  {
   "cell_type": "markdown",
   "metadata": {},
   "source": [
    "- Ejercicio 2"
   ]
  },
  {
   "cell_type": "markdown",
   "metadata": {},
   "source": []
  },
  {
   "cell_type": "markdown",
   "metadata": {},
   "source": []
  },
  {
   "cell_type": "markdown",
   "metadata": {},
   "source": [
    "- Ejercicio 3"
   ]
  },
  {
   "cell_type": "markdown",
   "metadata": {},
   "source": []
  },
  {
   "cell_type": "markdown",
   "metadata": {},
   "source": []
  }
 ],
 "metadata": {
  "kernelspec": {
   "display_name": "Julia 0.4.6",
   "language": "julia",
   "name": "julia-0.4"
  },
  "language_info": {
   "file_extension": ".jl",
   "mimetype": "application/julia",
   "name": "julia",
   "version": "0.4.6"
  }
 },
 "nbformat": 4,
 "nbformat_minor": 0
}
